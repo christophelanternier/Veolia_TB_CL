{
 "cells": [
  {
   "cell_type": "markdown",
   "metadata": {},
   "source": [
    "First score = 0.8277"
   ]
  },
  {
   "cell_type": "code",
   "execution_count": 1,
   "metadata": {
    "collapsed": false
   },
   "outputs": [],
   "source": [
    "%matplotlib inline\n",
    "\n",
    "import pandas as pd\n",
    "\n",
    "import matplotlib.pyplot as plt\n",
    "import numpy as np\n",
    "import sklearn\n",
    "\n",
    "\n",
    "from sklearn.preprocessing import normalize\n",
    "from sklearn.cross_validation import train_test_split\n",
    "from sklearn.linear_model import LogisticRegression\n",
    "from sklearn.svm import SVC\n",
    "from sklearn.metrics import classification_report\n",
    "\n",
    "from public_auc_veolia2 import score_function\n",
    "\n",
    "from utils import load_data, basic_preprocessing"
   ]
  },
  {
   "cell_type": "code",
   "execution_count": 2,
   "metadata": {
    "collapsed": false
   },
   "outputs": [
    {
     "name": "stderr",
     "output_type": "stream",
     "text": [
      "Using TensorFlow backend.\n"
     ]
    }
   ],
   "source": [
    "from keras.models import Sequential\n",
    "from keras.optimizers import SGD\n",
    "from keras.layers import Dense, Activation\n",
    "from keras.regularizers import l1,l2"
   ]
  },
  {
   "cell_type": "code",
   "execution_count": 3,
   "metadata": {
    "collapsed": true
   },
   "outputs": [],
   "source": [
    "input_train, output_train, input_submission = load_data()"
   ]
  },
  {
   "cell_type": "code",
   "execution_count": 4,
   "metadata": {
    "collapsed": false
   },
   "outputs": [],
   "source": [
    "df = basic_preprocessing(input_train)\n",
    "df_out = (output_train['2014'] + output_train['2015'])>0"
   ]
  },
  {
   "cell_type": "code",
   "execution_count": 5,
   "metadata": {
    "collapsed": true
   },
   "outputs": [],
   "source": [
    "X_train, X_test, y_train, y_test = train_test_split(df, df_out, test_size=0.33, random_state= 1)"
   ]
  },
  {
   "cell_type": "code",
   "execution_count": 6,
   "metadata": {
    "collapsed": false
   },
   "outputs": [],
   "source": [
    "idx = y_train[y_train==True].index\n",
    "idx_test = y_test[y_test==True].index\n",
    "\n",
    "X_train_duplicated = X_train\n",
    "y_train_duplicated = y_train\n",
    "\n",
    "X_test_duplicated = X_test\n",
    "y_test_duplicated = y_test\n"
   ]
  },
  {
   "cell_type": "code",
   "execution_count": 7,
   "metadata": {
    "collapsed": false
   },
   "outputs": [],
   "source": [
    "for k in range(8):\n",
    "    X_train_duplicated = pd.concat([X_train_duplicated, X_train_duplicated.loc[idx]])\n",
    "    y_train_duplicated = pd.concat([y_train_duplicated, y_train_duplicated.loc[idx]])\n",
    "    X_test_duplicated = pd.concat([X_test_duplicated, X_test_duplicated.loc[idx_test]])\n",
    "    y_test_duplicated = pd.concat([y_test_duplicated, y_test_duplicated.loc[idx_test]])"
   ]
  },
  {
   "cell_type": "code",
   "execution_count": 8,
   "metadata": {
    "collapsed": false
   },
   "outputs": [
    {
     "data": {
      "text/plain": [
       "<matplotlib.axes._subplots.AxesSubplot at 0x11959dc50>"
      ]
     },
     "execution_count": 8,
     "metadata": {},
     "output_type": "execute_result"
    },
    {
     "data": {
      "image/png": "[encoded data removed]",
      "text/plain": [
       "<matplotlib.figure.Figure at 0x10431f828>"
      ]
     },
     "metadata": {},
     "output_type": "display_data"
    }
   ],
   "source": [
    "y_train_duplicated.hist(bins = 2)\n",
    "y_test_duplicated.hist(bins = 2)"
   ]
  },
  {
   "cell_type": "code",
   "execution_count": 104,
   "metadata": {
    "collapsed": false
   },
   "outputs": [],
   "source": [
    "wreg = 0.001\n",
    "model = Sequential()\n",
    "model.add(Dense(20, activation='sigmoid', input_shape=(13,), W_regularizer=l2(wreg)))\n",
    "model.add(Dense(100, activation='sigmoid', W_regularizer=l2(wreg)))\n",
    "model.add(Dense(50, activation='sigmoid', W_regularizer=l2(wreg)))\n",
    "model.add(Dense(20, activation='sigmoid', W_regularizer=l2(wreg)))\n",
    "model.add(Dense(1, activation='sigmoid', W_regularizer=l2(wreg)))\n",
    "model.compile(optimizer='adam',\n",
    "      loss='binary_crossentropy',\n",
    "      metrics=['accuracy'])"
   ]
  },
  {
   "cell_type": "code",
   "execution_count": 105,
   "metadata": {
    "collapsed": false
   },
   "outputs": [
    {
     "name": "stdout",
     "output_type": "stream",
     "text": [
      "Train on 27296 samples, validate on 14316 samples\n",
      "Epoch 1/10\n",
      "27296/27296 [==============================] - 17s - loss: 0.6550 - acc: 0.6838 - val_loss: 0.4960 - val_acc: 0.7802\n",
      "Epoch 2/10\n",
      "27296/27296 [==============================] - 17s - loss: 0.5487 - acc: 0.7624 - val_loss: 0.5384 - val_acc: 0.7137\n",
      "Epoch 3/10\n",
      "27296/27296 [==============================] - 17s - loss: 0.5330 - acc: 0.7637 - val_loss: 0.5086 - val_acc: 0.7299\n",
      "Epoch 4/10\n",
      "27296/27296 [==============================] - 17s - loss: 0.5252 - acc: 0.7695 - val_loss: 0.4710 - val_acc: 0.8061\n",
      "Epoch 5/10\n",
      "27296/27296 [==============================] - 17s - loss: 0.5250 - acc: 0.7629 - val_loss: 0.4861 - val_acc: 0.7144\n",
      "Epoch 6/10\n",
      "27296/27296 [==============================] - 17s - loss: 0.5221 - acc: 0.7631 - val_loss: 0.5165 - val_acc: 0.7023\n",
      "Epoch 7/10\n",
      "27296/27296 [==============================] - 17s - loss: 0.5193 - acc: 0.7658 - val_loss: 0.4922 - val_acc: 0.7213\n",
      "Epoch 8/10\n",
      "27296/27296 [==============================] - 18s - loss: 0.5192 - acc: 0.7680 - val_loss: 0.5188 - val_acc: 0.6888\n",
      "Epoch 9/10\n",
      "27296/27296 [==============================] - 18s - loss: 0.5190 - acc: 0.7637 - val_loss: 0.4856 - val_acc: 0.7576\n",
      "Epoch 10/10\n",
      "27296/27296 [==============================] - 17s - loss: 0.5145 - acc: 0.7647 - val_loss: 0.4804 - val_acc: 0.7717\n"
     ]
    }
   ],
   "source": [
    "history = model.fit(np.array(X_train_duplicated), np.array(y_train_duplicated), validation_data=(np.array(X_test_duplicated), np.array(y_test_duplicated)),nb_epoch=10)"
   ]
  },
  {
   "cell_type": "code",
   "execution_count": 106,
   "metadata": {
    "collapsed": false
   },
   "outputs": [],
   "source": [
    "y = model.predict_on_batch(X_test_duplicated)"
   ]
  },
  {
   "cell_type": "code",
   "execution_count": 107,
   "metadata": {
    "collapsed": false
   },
   "outputs": [
    {
     "data": {
      "text/plain": [
       "(14316,)"
      ]
     },
     "execution_count": 107,
     "metadata": {},
     "output_type": "execute_result"
    }
   ],
   "source": [
    "y_test_duplicated.shape"
   ]
  },
  {
   "cell_type": "code",
   "execution_count": 108,
   "metadata": {
    "collapsed": false
   },
   "outputs": [
    {
     "data": {
      "text/plain": [
       "(array([ 2972.,   175.,   149.,   235.,  3161.,   624.,   627.,  4247.,\n",
       "            0.,  2126.]),\n",
       " array([ 0.05521345,  0.14357249,  0.23193152,  0.32029055,  0.40864959,\n",
       "         0.49700862,  0.58536766,  0.67372669,  0.76208572,  0.85044476,\n",
       "         0.93880379]),\n",
       " <a list of 10 Patch objects>)"
      ]
     },
     "execution_count": 108,
     "metadata": {},
     "output_type": "execute_result"
    },
    {
     "data": {
      "image/png": "[encoded data removed]",
      "text/plain": [
       "<matplotlib.figure.Figure at 0x126ed99e8>"
      ]
     },
     "metadata": {},
     "output_type": "display_data"
    }
   ],
   "source": [
    "plt.hist(y_test_duplicated, bins=10)\n",
    "plt.hist(y, bins=10)"
   ]
  },
  {
   "cell_type": "code",
   "execution_count": 42,
   "metadata": {
    "collapsed": true
   },
   "outputs": [],
   "source": [
    "from public_auc_veolia2 import score_function"
   ]
  },
  {
   "cell_type": "code",
   "execution_count": 78,
   "metadata": {
    "collapsed": false
   },
   "outputs": [],
   "source": [
    "y_pred = model.predict_on_batch(X_test)"
   ]
  },
  {
   "cell_type": "code",
   "execution_count": 51,
   "metadata": {
    "collapsed": false
   },
   "outputs": [],
   "source": [
    "y_tes = np.array([float(w) for w in y_test])"
   ]
  },
  {
   "cell_type": "code",
   "execution_count": 56,
   "metadata": {
    "collapsed": true
   },
   "outputs": [],
   "source": [
    "pred = np.array([y_pred, y_pred]).T[0]\n",
    "true = np.array([y_tes,y_tes]).T"
   ]
  },
  {
   "cell_type": "code",
   "execution_count": 64,
   "metadata": {
    "collapsed": false
   },
   "outputs": [
    {
     "data": {
      "text/plain": [
       "0.87088937202952765"
      ]
     },
     "execution_count": 64,
     "metadata": {},
     "output_type": "execute_result"
    }
   ],
   "source": [
    "score_function(true, pred)"
   ]
  },
  {
   "cell_type": "code",
   "execution_count": 81,
   "metadata": {
    "collapsed": true
   },
   "outputs": [],
   "source": [
    "X_submission = basic_preprocessing(input_submission)"
   ]
  },
  {
   "cell_type": "code",
   "execution_count": 82,
   "metadata": {
    "collapsed": true
   },
   "outputs": [],
   "source": [
    "y_pred = model.predict_on_batch(X_submission)"
   ]
  },
  {
   "cell_type": "code",
   "execution_count": 83,
   "metadata": {
    "collapsed": true
   },
   "outputs": [],
   "source": [
    "# Predictions for the submission data\n",
    "sub_1 = y_pred\n",
    "sub_2 = y_pred"
   ]
  },
  {
   "cell_type": "code",
   "execution_count": 86,
   "metadata": {
    "collapsed": false
   },
   "outputs": [
    {
     "data": {
      "text/plain": [
       "array([[<matplotlib.axes._subplots.AxesSubplot object at 0x11e23a940>]], dtype=object)"
      ]
     },
     "execution_count": 86,
     "metadata": {},
     "output_type": "execute_result"
    },
    {
     "data": {
      "image/png": "[encoded data removed]",
      "text/plain": [
       "<matplotlib.figure.Figure at 0x11e2e64a8>"
      ]
     },
     "metadata": {},
     "output_type": "display_data"
    }
   ],
   "source": [
    "pd.DataFrame(y_pred).hist(bins=10)"
   ]
  },
  {
   "cell_type": "code",
   "execution_count": 85,
   "metadata": {
    "collapsed": false
   },
   "outputs": [],
   "source": [
    "# Submission formating\n",
    "submission = pd.DataFrame()\n",
    "submission['Id'] = input_submission.index.tolist()\n",
    "submission['2014'] = sub_1[:]\n",
    "submission['2015'] = sub_2[:]\n",
    "submission = submission.set_index('Id')\n",
    "submission.to_csv('../submissions/nn_20_100_20_1.csv',index=True,sep=';')"
   ]
  },
  {
   "cell_type": "code",
   "execution_count": null,
   "metadata": {
    "collapsed": true
   },
   "outputs": [],
   "source": []
  }
 ],
 "metadata": {
  "kernelspec": {
   "display_name": "Python 3",
   "language": "python",
   "name": "python3"
  },
  "language_info": {
   "codemirror_mode": {
    "name": "ipython",
    "version": 3
   },
   "file_extension": ".py",
   "mimetype": "text/x-python",
   "name": "python",
   "nbconvert_exporter": "python",
   "pygments_lexer": "ipython3",
   "version": "3.5.1"
  }
 },
 "nbformat": 4,
 "nbformat_minor": 0
}
