{
 "cells": [
  {
   "cell_type": "code",
   "execution_count": 1,
   "metadata": {
    "collapsed": false
   },
   "outputs": [
    {
     "name": "stderr",
     "output_type": "stream",
     "text": [
      "/Users/christophelanternier/anaconda/lib/python2.7/site-packages/sklearn/cross_validation.py:44: DeprecationWarning: This module was deprecated in version 0.18 in favor of the model_selection module into which all the refactored classes and functions are moved. Also note that the interface of the new CV iterators are different from that of this module. This module will be removed in 0.20.\n",
      "  \"This module will be removed in 0.20.\", DeprecationWarning)\n"
     ]
    }
   ],
   "source": [
    "import pandas as pd\n",
    "\n",
    "import matplotlib.pyplot as plt\n",
    "import numpy as np\n",
    "import sklearn\n",
    "\n",
    "\n",
    "from sklearn.preprocessing import normalize\n",
    "from sklearn.cross_validation import train_test_split\n",
    "from sklearn.linear_model import LogisticRegression\n",
    "from sklearn.svm import SVC\n",
    "from sklearn.metrics import classification_report\n",
    "from sklearn.cross_validation import StratifiedKFold\n",
    "\n",
    "import warnings\n",
    "warnings.filterwarnings('ignore')\n",
    "\n",
    "import utils_veolia\n"
   ]
  },
  {
   "cell_type": "code",
   "execution_count": 2,
   "metadata": {
    "collapsed": false
   },
   "outputs": [],
   "source": [
    "input_raw, output_raw, input_submission = utils_veolia.load_data()"
   ]
  },
  {
   "cell_type": "code",
   "execution_count": 3,
   "metadata": {
    "collapsed": false
   },
   "outputs": [],
   "source": [
    "input_preprocessed = utils_veolia.preprocess(input_raw, year=2014, more_features=False)"
   ]
  },
  {
   "cell_type": "code",
   "execution_count": 4,
   "metadata": {
    "collapsed": false
   },
   "outputs": [],
   "source": [
    "input_train, output_train, input_test, output_test = utils_veolia.split_train_test_Kfold(output_raw, input_preprocessed)"
   ]
  },
  {
   "cell_type": "code",
   "execution_count": 5,
   "metadata": {
    "collapsed": false
   },
   "outputs": [],
   "source": [
    "input_train_duplicate, output_train_duplicate = utils_veolia.data_augmentation_basic(input_train, output_train, repetitions = 6)"
   ]
  },
  {
   "cell_type": "markdown",
   "metadata": {},
   "source": [
    "# Classification"
   ]
  },
  {
   "cell_type": "code",
   "execution_count": 199,
   "metadata": {
    "collapsed": false
   },
   "outputs": [],
   "source": [
    "from sklearn.ensemble import RandomForestClassifier\n",
    "from sklearn.ensemble import GradientBoostingClassifier\n",
    "from sklearn.ensemble import AdaBoostClassifier"
   ]
  },
  {
   "cell_type": "code",
   "execution_count": 200,
   "metadata": {
    "collapsed": false
   },
   "outputs": [],
   "source": [
    "RFC = RandomForestClassifier(n_estimators=10, max_depth=20)\n",
    "GBC = GradientBoostingClassifier(n_estimators=10, max_depth=20)\n",
    "ABC = AdaBoostClassifier(n_estimators=20)"
   ]
  },
  {
   "cell_type": "code",
   "execution_count": 201,
   "metadata": {
    "collapsed": false
   },
   "outputs": [
    {
     "name": "stdout",
     "output_type": "stream",
     "text": [
      "Repartition train: \n",
      "2015:  529\n",
      "2014:  6912\n",
      "Not Broken:  9670\n"
     ]
    }
   ],
   "source": [
    "predict_proba = True\n",
    "YEAR = 2014\n",
    "input_preprocessed = utils_veolia.preprocess(input_raw, year=YEAR, more_features=True)\n",
    "input_train, output_train, input_test, output_test = utils_veolia.split_train_test_Kfold(output_raw, input_preprocessed)\n",
    "input_train_duplicate, output_train_duplicate = utils_veolia.data_augmentation_basic(input_train, output_train, year = YEAR,repetitions = 8)\n",
    "\n",
    "X_train = input_train_duplicate\n",
    "utils_veolia.print_repartition(output_train_duplicate)\n",
    "Y_train = utils_veolia.preprocess_output(output_train_duplicate, year = YEAR)\n",
    "X_test = input_test\n",
    "Y_test_2014 = utils_veolia.preprocess_output(output_test, year = YEAR)\n",
    "\n",
    "rdm_1 = ABC\n",
    "rdm_1.fit(X_train, Y_train)\n",
    "\n",
    "if predict_proba:\n",
    "    y_pred_2014 = rdm_1.predict_proba(X_test)\n",
    "    y_pred_2014 = y_pred_2014[:,1]\n",
    "else:\n",
    "    y_pred_2014 = rdm_1.predict(X_test)\n",
    "    print(classification_report(Y_test_2014,y_pred_2014))"
   ]
  },
  {
   "cell_type": "code",
   "execution_count": 202,
   "metadata": {
    "collapsed": false
   },
   "outputs": [
    {
     "name": "stdout",
     "output_type": "stream",
     "text": [
      "Repartition train: \n",
      "2015:  4352\n",
      "2014:  539\n",
      "Not Broken:  9670\n"
     ]
    }
   ],
   "source": [
    "YEAR = 2015\n",
    "input_preprocessed = utils_veolia.preprocess(input_raw, year=YEAR, more_features=True)\n",
    "input_train, output_train, input_test, output_test = utils_veolia.split_train_test_Kfold(output_raw, input_preprocessed)\n",
    "input_train_duplicate, output_train_duplicate = utils_veolia.data_augmentation_basic(input_train, output_train, year = YEAR,repetitions = 8)\n",
    "\n",
    "X_train = input_train_duplicate\n",
    "utils_veolia.print_repartition(output_train_duplicate)\n",
    "Y_train = utils_veolia.preprocess_output(output_train_duplicate, year = YEAR)\n",
    "X_test = input_test\n",
    "Y_test_2015 = utils_veolia.preprocess_output(output_test, year = YEAR)\n",
    "\n",
    "rdm_1 = GBC\n",
    "rdm_1.fit(X_train, Y_train)\n",
    "\n",
    "if predict_proba:\n",
    "    y_pred_2015 = rdm_1.predict_proba(X_test)\n",
    "    y_pred_2015 = y_pred_2015[:,1]\n",
    "else:\n",
    "    y_pred_2015 = rdm_1.predict(X_test)\n",
    "    print(classification_report(Y_test_2015,y_pred_2015))"
   ]
  },
  {
   "cell_type": "code",
   "execution_count": 203,
   "metadata": {
    "collapsed": false,
    "scrolled": true
   },
   "outputs": [
    {
     "data": {
      "text/plain": [
       "0.7003855546348241"
      ]
     },
     "execution_count": 203,
     "metadata": {},
     "output_type": "execute_result"
    }
   ],
   "source": [
    "pred = np.array([y_pred_2014,y_pred_2015]).T\n",
    "true = np.array([Y_test_2014,Y_test_2015]).T\n",
    "\n",
    "utils_veolia.score_function(true, pred)"
   ]
  },
  {
   "cell_type": "code",
   "execution_count": null,
   "metadata": {
    "collapsed": true
   },
   "outputs": [],
   "source": []
  },
  {
   "cell_type": "code",
   "execution_count": null,
   "metadata": {
    "collapsed": true
   },
   "outputs": [],
   "source": []
  }
 ],
 "metadata": {
  "kernelspec": {
   "display_name": "Python 2",
   "language": "python",
   "name": "python2"
  },
  "language_info": {
   "codemirror_mode": {
    "name": "ipython",
    "version": 2
   },
   "file_extension": ".py",
   "mimetype": "text/x-python",
   "name": "python",
   "nbconvert_exporter": "python",
   "pygments_lexer": "ipython2",
   "version": "2.7.12"
  }
 },
 "nbformat": 4,
 "nbformat_minor": 0
}
